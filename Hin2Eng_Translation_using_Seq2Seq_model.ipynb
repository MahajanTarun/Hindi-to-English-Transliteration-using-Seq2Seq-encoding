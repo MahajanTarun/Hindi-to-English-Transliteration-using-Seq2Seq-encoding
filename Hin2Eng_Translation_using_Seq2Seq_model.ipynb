{
  "nbformat": 4,
  "nbformat_minor": 0,
  "metadata": {
    "colab": {
      "name": "Hin2Eng_Translation_using_Seq2Seq_model.ipynb",
      "provenance": [],
      "collapsed_sections": [],
      "toc_visible": true
    },
    "kernelspec": {
      "name": "python3",
      "display_name": "Python 3"
    },
    "accelerator": "GPU"
  },
  "cells": [
    {
      "cell_type": "markdown",
      "metadata": {
        "id": "qOBaNi4iYDPh",
        "colab_type": "text"
      },
      "source": [
        "#Generate english transliteration of the given hindi text trained using the given dataset."
      ]
    },
    {
      "cell_type": "markdown",
      "metadata": {
        "id": "99vnn5gZYb-r",
        "colab_type": "text"
      },
      "source": [
        "This is a text to text translation problem. **I will use Neural Machine Translation with Atention**\n",
        "A sequence to sequence model for Hindi to English translation using tensorflow keras."
      ]
    },
    {
      "cell_type": "code",
      "metadata": {
        "id": "TohtuEdtX2tR",
        "colab_type": "code",
        "outputId": "e95166d3-1c24-4122-96ee-9659b7566812",
        "colab": {
          "base_uri": "https://localhost:8080/",
          "height": 34
        }
      },
      "source": [
        "from __future__ import absolute_import, division, print_function\n",
        "\n",
        "import tensorflow as tf\n",
        "\n",
        "tf.enable_eager_execution()\n",
        "\n",
        "import matplotlib.pyplot as plt\n",
        "from sklearn.model_selection import train_test_split\n",
        "\n",
        "import unicodedata\n",
        "import re\n",
        "import numpy as np\n",
        "import os\n",
        "import time\n",
        "\n",
        "print(tf.__version__)"
      ],
      "execution_count": 23,
      "outputs": [
        {
          "output_type": "stream",
          "text": [
            "1.14.0\n"
          ],
          "name": "stdout"
        }
      ]
    },
    {
      "cell_type": "markdown",
      "metadata": {
        "id": "_zn7Sm_OnwM0",
        "colab_type": "text"
      },
      "source": [
        "### Download dataset\n",
        "\n",
        "Dataset source : http://www.manythings.org/anki/. \n",
        "\n",
        "As per the requirement, I am using Hin-Eng file from the list. "
      ]
    },
    {
      "cell_type": "code",
      "metadata": {
        "id": "Yza9iN9Ons3C",
        "colab_type": "code",
        "outputId": "7e5c0091-4dfa-4c2a-d8ff-71e276ef4ef3",
        "colab": {
          "base_uri": "https://localhost:8080/",
          "height": 34
        }
      },
      "source": [
        "file_path =\"hin.txt\"\n",
        "\n",
        "# For testing if the file is loaded successfully, we can print few lines from the file using:\n",
        "temp = open(file_path, encoding='UTF-8').read().strip().split('\\n')\n",
        "temp[0:5]\n",
        "len(temp)"
      ],
      "execution_count": 24,
      "outputs": [
        {
          "output_type": "execute_result",
          "data": {
            "text/plain": [
              "2808"
            ]
          },
          "metadata": {
            "tags": []
          },
          "execution_count": 24
        }
      ]
    },
    {
      "cell_type": "code",
      "metadata": {
        "id": "HJZkeCBGrDn8",
        "colab_type": "code",
        "colab": {}
      },
      "source": [
        "# We need to convert unicode file to ascii\n",
        "\n",
        "def unicode_to_ascii(s):\n",
        "  return ''.join(c for c in unicodedata.normalize('NFD', s)\n",
        "                if unicodedata.category(c) != 'Mn')\n",
        "\n",
        "def preprocess_sentence(w):\n",
        "  w = unicode_to_ascii(w.lower().strip())\n",
        "  \n",
        "  # We need to add space between every word and punctuation such as : \"Wow! It is done.\" -> \"Wow ! It is done .\"\n",
        "  # This is because out network recognises these characters as different words.\n",
        "  w = re.sub(r\"([?.!,¿])\", r\" \\1 \", w)\n",
        "  w = re.sub(r'[\" \"]+', \" \", w)\n",
        "    \n",
        "  # We also need every thing with space except alphabets, punctuations and assisting symbols\n",
        "  w = re.sub(r\"[^a-zA-Z?.!,¿]+\", \" \", w)\n",
        "  w = w.rstrip().strip()\n",
        "  \n",
        "  # Adding a start and end token to the sentence\n",
        "  w = '<start> ' + w + ' <end>'\n",
        "  return w"
      ],
      "execution_count": 0,
      "outputs": []
    },
    {
      "cell_type": "code",
      "metadata": {
        "id": "tD6dB02uvhxR",
        "colab_type": "code",
        "colab": {}
      },
      "source": [
        "# Few preprocessing tasks such as:\n",
        "# 1. Removing accents\n",
        "# 2. Clean the sentences\n",
        "# 3. Return word pairs in the format: [ENGLISH, HINDI]\n",
        "\n",
        "def create_dataset(path, num_examples):\n",
        "  lines =  open(path, encoding='UTF-8').read().strip().split('\\n')\n",
        "  \n",
        "  word_pairs = [[preprocess_sentence(w) for w in l.split('\\t')] for l in lines[:num_examples]]\n",
        "  \n",
        "  return word_pairs"
      ],
      "execution_count": 0,
      "outputs": []
    },
    {
      "cell_type": "code",
      "metadata": {
        "id": "WpQcKX2r3ipD",
        "colab_type": "code",
        "colab": {}
      },
      "source": [
        "# Creating word-index mapping (e.g. \"wow\"->7) for both the language.\n",
        "\n",
        "class LanguageIndex():\n",
        "  def __init__(self, lang):\n",
        "    self.lang = lang\n",
        "    self.word2idx = {}\n",
        "    self.idx2word = {}\n",
        "    self.vocab = set()\n",
        "    \n",
        "    self.create_index()\n",
        "    \n",
        "  def create_index(self):\n",
        "    for phrase in self.lang:\n",
        "      self.vocab.update(phrase.split(' '))\n",
        "\n",
        "    self.vocab = sorted(self.vocab)\n",
        "\n",
        "    self.word2idx['<pad>'] = 0\n",
        "    for index, word in enumerate(self.vocab):\n",
        "      self.word2idx[word] = index + 1\n",
        "\n",
        "    for word, index in self.word2idx.items():\n",
        "      self.idx2word[index] = word"
      ],
      "execution_count": 0,
      "outputs": []
    },
    {
      "cell_type": "code",
      "metadata": {
        "id": "pOtVApNg5Yp7",
        "colab_type": "code",
        "colab": {}
      },
      "source": [
        "def max_length(tensor):\n",
        "  return max(len(t) for t in tensor)\n",
        "\n",
        "def load_dataset(path, num_examples):\n",
        "  # creating cleaned input and output pairs\n",
        "  pairs = create_dataset(path, num_examples)\n",
        "  \n",
        "  # index language using the class defined above\n",
        "  inp_lang = LanguageIndex(hi for en, hi in pairs)\n",
        "  targ_lang = LanguageIndex(en for en, hi in pairs)\n",
        "  \n",
        "  # Vectorize the input and target languages\n",
        "  \n",
        "  # Hindi sentences\n",
        "  input_tensor = [[inp_lang.word2idx[s] for s in hi.split(' ')] for en, hi in pairs]\n",
        "  \n",
        "  # English sentences\n",
        "  target_tensor = [[targ_lang.word2idx[s] for s in en.split(' ')] for en, sp in pairs]\n",
        "  \n",
        "  # We set input vector size to the size of longest sentence (sentence with maximum length) in out dataset.\n",
        "  max_length_inp, max_length_tar = max_length(input_tensor), max_length(target_tensor)\n",
        "    \n",
        "  # We need to add padding other sentences before using them. We will pad the input and output tensor to max-length\n",
        "  input_tensor = tf.keras.preprocessing.sequence.pad_sequences(input_tensor, maxlen=max_length_inp, padding='post')\n",
        "  \n",
        "  target_tensor = tf.keras.preprocessing.sequence.pad_sequences(target_tensor, maxlen=max_length_tar, padding='post')\n",
        "  \n",
        "  return input_tensor, target_tensor, inp_lang, targ_lang, max_length_inp, max_length_tar"
      ],
      "execution_count": 0,
      "outputs": []
    },
    {
      "cell_type": "code",
      "metadata": {
        "id": "uo81BGfo82uJ",
        "colab_type": "code",
        "colab": {}
      },
      "source": [
        "num_examples = len(temp)\n",
        "input_tensor, target_tensor, inp_lang, targ_lang, max_length_inp, max_length_targ = load_dataset(file_path, num_examples)"
      ],
      "execution_count": 0,
      "outputs": []
    },
    {
      "cell_type": "code",
      "metadata": {
        "id": "P7-qL1aJ-_kG",
        "colab_type": "code",
        "colab": {
          "base_uri": "https://localhost:8080/",
          "height": 34
        },
        "outputId": "4f06b60d-d68b-4151-b155-47509f297249"
      },
      "source": [
        "# Creating training and validation sets using an 80-20 split\n",
        "input_tensor_train, input_tensor_val, target_tensor_train, target_tensor_val = train_test_split(input_tensor, target_tensor, test_size=0.2)\n",
        "\n",
        "len(input_tensor_train), len(target_tensor_train), len(input_tensor_val), len(target_tensor_val)"
      ],
      "execution_count": 30,
      "outputs": [
        {
          "output_type": "execute_result",
          "data": {
            "text/plain": [
              "(2246, 2246, 562, 562)"
            ]
          },
          "metadata": {
            "tags": []
          },
          "execution_count": 30
        }
      ]
    },
    {
      "cell_type": "code",
      "metadata": {
        "id": "F74D-7eD_2Fy",
        "colab_type": "code",
        "colab": {}
      },
      "source": [
        "BUFFER_SIZE = len(input_tensor_train)\n",
        "BATCH_SIZE = 64\n",
        "N_BATCH = BUFFER_SIZE//BATCH_SIZE\n",
        "embedding_dim = 256\n",
        "units = 1024\n",
        "vocab_inp_size = len(inp_lang.word2idx)\n",
        "vocab_tar_size = len(targ_lang.word2idx)\n",
        "\n",
        "dataset = tf.data.Dataset.from_tensor_slices((input_tensor_train, target_tensor_train)).shuffle(BUFFER_SIZE)\n",
        "dataset = dataset.batch(BATCH_SIZE, drop_remainder=True)"
      ],
      "execution_count": 0,
      "outputs": []
    },
    {
      "cell_type": "markdown",
      "metadata": {
        "id": "8MzpjGQUAEsS",
        "colab_type": "text"
      },
      "source": [
        "### Writing Encoder and Decoder model\n",
        "\n",
        "The model will be an Attention model"
      ]
    },
    {
      "cell_type": "code",
      "metadata": {
        "id": "IFf2oqutACbC",
        "colab_type": "code",
        "colab": {}
      },
      "source": [
        "def gru(units):\n",
        "  return tf.keras.layers.GRU(units, return_sequences=True, return_state=True, recurrent_activation='sigmoid', recurrent_initializer='glorot_uniform')"
      ],
      "execution_count": 0,
      "outputs": []
    },
    {
      "cell_type": "code",
      "metadata": {
        "id": "Gd7auyjMA_db",
        "colab_type": "code",
        "colab": {}
      },
      "source": [
        "class Encoder(tf.keras.Model):\n",
        "  def __init__(self, vocab_size, embedding_dim, enc_units, batch_sz):\n",
        "    super(Encoder, self).__init__()\n",
        "    self.batch_sz = batch_sz\n",
        "    self.enc_units = enc_units\n",
        "    self.embedding = tf.keras.layers.Embedding(vocab_size, embedding_dim)\n",
        "    self.gru = gru(self.enc_units)\n",
        "\n",
        "  def call(self, x, hidden):\n",
        "    x = self.embedding(x)\n",
        "    output, state = self.gru(x, initial_state = hidden)        \n",
        "    return output, state\n",
        "\n",
        "  def initialize_hidden_state(self):\n",
        "    return tf.zeros((self.batch_sz, self.enc_units))"
      ],
      "execution_count": 0,
      "outputs": []
    },
    {
      "cell_type": "code",
      "metadata": {
        "id": "hGe881s-Bg4p",
        "colab_type": "code",
        "colab": {}
      },
      "source": [
        "class Decoder(tf.keras.Model):\n",
        "  def __init__(self, vocab_size, embedding_dim, dec_units, batch_sz):\n",
        "    super(Decoder, self).__init__()\n",
        "    self.batch_sz = batch_sz\n",
        "    self.dec_units = dec_units\n",
        "    self.embedding = tf.keras.layers.Embedding(vocab_size, embedding_dim)\n",
        "    self.gru = gru(self.dec_units)\n",
        "    self.fc = tf.keras.layers.Dense(vocab_size)\n",
        "\n",
        "    # used for attention\n",
        "    self.W1 = tf.keras.layers.Dense(self.dec_units)\n",
        "    self.W2 = tf.keras.layers.Dense(self.dec_units)\n",
        "    self.V = tf.keras.layers.Dense(1)\n",
        "        \n",
        "  def call(self, x, hidden, enc_output):\n",
        "    #  enc_output shape == (batch_size, max_length, hidden_size)\n",
        "        \n",
        "    # hidden shape == (batch_size, hidden size)\n",
        "    # hidden_with_time_axis shape == (batch_size, 1, hidden size)\n",
        "    # we are doing this to perform addition to calculate the score\n",
        "    hidden_with_time_axis = tf.expand_dims(hidden, 1)\n",
        "\n",
        "    # score shape == (batch_size, max_length, 1)\n",
        "    # we get 1 at the last axis because we are applying tanh(FC(EO) + FC(H)) to self.V\n",
        "    score = self.V(tf.nn.tanh(self.W1(enc_output) + self.W2(hidden_with_time_axis)))\n",
        "\n",
        "    # attention_weights shape == (batch_size, max_length, 1)\n",
        "    attention_weights = tf.nn.softmax(score, axis=1)\n",
        "\n",
        "    # context_vector shape after sum == (batch_size, hidden_size)\n",
        "    context_vector = attention_weights * enc_output\n",
        "    context_vector = tf.reduce_sum(context_vector, axis=1)\n",
        "\n",
        "    # x shape after passing through embedding == (batch_size, 1, embedding_dim)\n",
        "    x = self.embedding(x)\n",
        "\n",
        "    # x shape after concatenation == (batch_size, 1, embedding_dim + hidden_size)\n",
        "    x = tf.concat([tf.expand_dims(context_vector, 1), x], axis=-1)\n",
        "\n",
        "    # passing the concatenated vector to the GRU\n",
        "    output, state = self.gru(x)\n",
        "\n",
        "    # output shape == (batch_size * 1, hidden_size)\n",
        "    output = tf.reshape(output, (-1, output.shape[2]))\n",
        "\n",
        "    # output shape == (batch_size * 1, vocab)\n",
        "    x = self.fc(output)\n",
        "\n",
        "    return x, state, attention_weights\n",
        "\n",
        "  def initialize_hidden_state(self):\n",
        "    return tf.zeros((self.batch_sz, self.dec_units))    "
      ],
      "execution_count": 0,
      "outputs": []
    },
    {
      "cell_type": "code",
      "metadata": {
        "id": "izq8vaGRDFSK",
        "colab_type": "code",
        "colab": {}
      },
      "source": [
        "encoder = Encoder(vocab_inp_size, embedding_dim, units, BATCH_SIZE)\n",
        "decoder = Decoder(vocab_tar_size, embedding_dim, units, BATCH_SIZE)"
      ],
      "execution_count": 0,
      "outputs": []
    },
    {
      "cell_type": "markdown",
      "metadata": {
        "id": "BqgO-9FVD1L0",
        "colab_type": "text"
      },
      "source": [
        "### Defining optimizer and loss function"
      ]
    },
    {
      "cell_type": "code",
      "metadata": {
        "id": "AIEoDiEwDSSz",
        "colab_type": "code",
        "colab": {}
      },
      "source": [
        "optimizer = tf.train.AdamOptimizer()\n",
        "\n",
        "def loss_function(real, pred):\n",
        "  mask = 1-np.equal(real, 0)\n",
        "  loss_ = tf.nn.sparse_softmax_cross_entropy_with_logits(labels=real, logits=pred) * mask\n",
        "  return tf.reduce_mean(loss_)"
      ],
      "execution_count": 0,
      "outputs": []
    },
    {
      "cell_type": "code",
      "metadata": {
        "id": "V8NPL4AsEdup",
        "colab_type": "code",
        "colab": {}
      },
      "source": [
        "# saving the checkpoints\n",
        "checkpoint_dir = checkpoint_prefix = os.path.join('', \"ckpt\")\n",
        "checkpoint = tf.train.Checkpoint(optimizer=optimizer,\n",
        "                                 encoder=encoder,\n",
        "                                 decoder=decoder)"
      ],
      "execution_count": 0,
      "outputs": []
    },
    {
      "cell_type": "markdown",
      "metadata": {
        "id": "Gc2qFBIGEtbp",
        "colab_type": "text"
      },
      "source": [
        "### Training"
      ]
    },
    {
      "cell_type": "code",
      "metadata": {
        "id": "v4ZlZZqBEsE5",
        "colab_type": "code",
        "colab": {
          "base_uri": "https://localhost:8080/",
          "height": 867
        },
        "outputId": "7b0511e3-b964-4078-c6fc-822c50119ebb"
      },
      "source": [
        "EPOCHS = 50\n",
        "\n",
        "for epoch in range(EPOCHS):\n",
        "  start = time.time()\n",
        "    \n",
        "  hidden = encoder.initialize_hidden_state()\n",
        "  total_loss = 0\n",
        "\n",
        "  for (batch, (inp, targ)) in enumerate(dataset):\n",
        "    loss = 0\n",
        "        \n",
        "    with tf.GradientTape() as tape:\n",
        "      enc_output, enc_hidden = encoder(inp, hidden)\n",
        "\n",
        "      dec_hidden = enc_hidden\n",
        "\n",
        "      dec_input = tf.expand_dims([targ_lang.word2idx['<start>']] * BATCH_SIZE, 1)       \n",
        "\n",
        "      # Teacher forcing - feeding the target as the next input\n",
        "      for t in range(1, targ.shape[1]):\n",
        "        # passing enc_output to the decoder\n",
        "        predictions, dec_hidden, _ = decoder(dec_input, dec_hidden, enc_output)\n",
        "\n",
        "        loss += loss_function(targ[:, t], predictions)\n",
        "\n",
        "        # using teacher forcing\n",
        "        dec_input = tf.expand_dims(targ[:, t], 1)\n",
        "\n",
        "    batch_loss = (loss / int(targ.shape[1]))\n",
        "\n",
        "    total_loss += batch_loss\n",
        "\n",
        "    variables = encoder.variables + decoder.variables\n",
        "\n",
        "    gradients = tape.gradient(loss, variables)\n",
        "\n",
        "    optimizer.apply_gradients(zip(gradients, variables))\n",
        "\n",
        "    if batch % 100 == 0:\n",
        "        print('Epoch {} Batch {} Loss {:.4f}'.format(epoch + 1,\n",
        "                                                     batch,\n",
        "                                                     batch_loss.numpy()))\n",
        "  "
      ],
      "execution_count": 38,
      "outputs": [
        {
          "output_type": "stream",
          "text": [
            "Epoch 1 Batch 0 Loss 2.3199\n",
            "Epoch 2 Batch 0 Loss 1.5416\n",
            "Epoch 3 Batch 0 Loss 1.4035\n",
            "Epoch 4 Batch 0 Loss 1.3030\n",
            "Epoch 5 Batch 0 Loss 1.2142\n",
            "Epoch 6 Batch 0 Loss 1.1428\n",
            "Epoch 7 Batch 0 Loss 1.0845\n",
            "Epoch 8 Batch 0 Loss 1.0404\n",
            "Epoch 9 Batch 0 Loss 0.9963\n",
            "Epoch 10 Batch 0 Loss 0.9545\n",
            "Epoch 11 Batch 0 Loss 0.9194\n",
            "Epoch 12 Batch 0 Loss 0.9101\n",
            "Epoch 13 Batch 0 Loss 0.8894\n",
            "Epoch 14 Batch 0 Loss 0.8421\n",
            "Epoch 15 Batch 0 Loss 0.8254\n",
            "Epoch 16 Batch 0 Loss 0.8071\n",
            "Epoch 17 Batch 0 Loss 0.7773\n",
            "Epoch 18 Batch 0 Loss 0.7578\n",
            "Epoch 19 Batch 0 Loss 0.7375\n",
            "Epoch 20 Batch 0 Loss 0.7252\n",
            "Epoch 21 Batch 0 Loss 0.7125\n",
            "Epoch 22 Batch 0 Loss 0.6953\n",
            "Epoch 23 Batch 0 Loss 0.6785\n",
            "Epoch 24 Batch 0 Loss 0.6684\n",
            "Epoch 25 Batch 0 Loss 0.6643\n",
            "Epoch 26 Batch 0 Loss 0.6553\n",
            "Epoch 27 Batch 0 Loss 0.6571\n",
            "Epoch 28 Batch 0 Loss 0.6582\n",
            "Epoch 29 Batch 0 Loss 0.6594\n",
            "Epoch 30 Batch 0 Loss 0.6456\n",
            "Epoch 31 Batch 0 Loss 0.6279\n",
            "Epoch 32 Batch 0 Loss 0.6170\n",
            "Epoch 33 Batch 0 Loss 0.6118\n",
            "Epoch 34 Batch 0 Loss 0.6074\n",
            "Epoch 35 Batch 0 Loss 0.6040\n",
            "Epoch 36 Batch 0 Loss 0.5946\n",
            "Epoch 37 Batch 0 Loss 0.5934\n",
            "Epoch 38 Batch 0 Loss 0.5918\n",
            "Epoch 39 Batch 0 Loss 0.5872\n",
            "Epoch 40 Batch 0 Loss 0.5820\n",
            "Epoch 41 Batch 0 Loss 0.5725\n",
            "Epoch 42 Batch 0 Loss 0.5663\n",
            "Epoch 43 Batch 0 Loss 0.5610\n",
            "Epoch 44 Batch 0 Loss 0.5587\n",
            "Epoch 45 Batch 0 Loss 0.5746\n",
            "Epoch 46 Batch 0 Loss 0.5521\n",
            "Epoch 47 Batch 0 Loss 0.5387\n",
            "Epoch 48 Batch 0 Loss 0.5361\n",
            "Epoch 49 Batch 0 Loss 0.5403\n",
            "Epoch 50 Batch 0 Loss 0.5260\n"
          ],
          "name": "stdout"
        }
      ]
    },
    {
      "cell_type": "code",
      "metadata": {
        "id": "tFNp4kUnGOBW",
        "colab_type": "code",
        "colab": {}
      },
      "source": [
        "def evaluate(sentence, encoder, decoder, inp_lang, targ_lang, max_length_inp, max_length_targ):\n",
        "  attention_plot = np.zeros((max_length_targ, max_length_inp))\n",
        "\n",
        "  sentence = preprocess_sentence(sentence)\n",
        "\n",
        "  inputs = [inp_lang.word2idx[i] for i in sentence.split(' ')]\n",
        "  inputs = tf.keras.preprocessing.sequence.pad_sequences([inputs], maxlen=max_length_inp, padding='post')\n",
        "  inputs = tf.convert_to_tensor(inputs)\n",
        "\n",
        "  result = ''\n",
        "\n",
        "  hidden = [tf.zeros((1, units))]\n",
        "  enc_out, enc_hidden = encoder(inputs, hidden)\n",
        "\n",
        "  dec_hidden = enc_hidden\n",
        "  dec_input = tf.expand_dims([targ_lang.word2idx['<start>']], 0)\n",
        "\n",
        "  for t in range(max_length_targ):\n",
        "    predictions, dec_hidden, attention_weights = decoder(dec_input, dec_hidden, enc_out)\n",
        "\n",
        "    # storing the attention weigths to plot later on\n",
        "    attention_weights = tf.reshape(attention_weights, (-1, ))\n",
        "    attention_plot[t] = attention_weights.numpy()\n",
        "\n",
        "    predicted_id = tf.argmax(predictions[0]).numpy()\n",
        "\n",
        "    result += targ_lang.idx2word[predicted_id] + ' '\n",
        "\n",
        "    if targ_lang.idx2word[predicted_id] == '<end>':\n",
        "        return result, sentence, attention_plot\n",
        "\n",
        "    # the predicted ID is fed back into the model\n",
        "    dec_input = tf.expand_dims([predicted_id], 0)\n",
        "\n",
        "  return result, sentence, attention_plot"
      ],
      "execution_count": 0,
      "outputs": []
    },
    {
      "cell_type": "code",
      "metadata": {
        "id": "A7y2AnXEGb-X",
        "colab_type": "code",
        "colab": {}
      },
      "source": [
        "# function for plotting the attention weights\n",
        "def plot_attention(attention, sentence, predicted_sentence):\n",
        "  fig = plt.figure(figsize=(10,10))\n",
        "  ax = fig.add_subplot(1, 1, 1)\n",
        "  ax.matshow(attention, cmap='viridis')\n",
        "\n",
        "  fontdict = {'fontsize': 14}\n",
        "\n",
        "  ax.set_xticklabels([''] + sentence, fontdict=fontdict, rotation=90)\n",
        "  ax.set_yticklabels([''] + predicted_sentence, fontdict=fontdict)\n",
        "\n",
        "  plt.show()"
      ],
      "execution_count": 0,
      "outputs": []
    },
    {
      "cell_type": "code",
      "metadata": {
        "id": "lGpsijzfGf0F",
        "colab_type": "code",
        "colab": {}
      },
      "source": [
        "def translate(sentence, encoder, decoder, inp_lang, targ_lang, max_length_inp, max_length_targ):\n",
        "  result, sentence, attention_plot = evaluate(sentence, encoder, decoder, inp_lang, targ_lang, max_length_inp, max_length_targ)\n",
        "\n",
        "  print('Input: {}'.format(sentence))\n",
        "  print('Predicted translation: {}'.format(result))\n",
        "\n",
        "  attention_plot = attention_plot[:len(result.split(' ')), :len(sentence.split(' '))]\n",
        "  plot_attention(attention_plot, sentence.split(' '), result.split(' '))"
      ],
      "execution_count": 0,
      "outputs": []
    },
    {
      "cell_type": "code",
      "metadata": {
        "id": "Dk8N97XcGn8J",
        "colab_type": "code",
        "colab": {
          "base_uri": "https://localhost:8080/",
          "height": 675
        },
        "outputId": "4f3b4def-1a93-47e4-bd75-f0ad5df26389"
      },
      "source": [
        "translate(u'मैंने अपना काम पूरा किया', encoder, decoder, inp_lang, targ_lang, max_length_inp, max_length_targ)"
      ],
      "execution_count": 42,
      "outputs": [
        {
          "output_type": "stream",
          "text": [
            "Input: <start>  <end>\n",
            "Predicted translation: i m going to the door . <end> \n"
          ],
          "name": "stdout"
        },
        {
          "output_type": "display_data",
          "data": {
            "image/png": "[encoded data removed]",
            "text/plain": [
              "<Figure size 720x720 with 1 Axes>"
            ]
          },
          "metadata": {
            "tags": []
          }
        }
      ]
    }
  ]
}